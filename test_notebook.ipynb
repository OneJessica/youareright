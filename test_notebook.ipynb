{
 "cells": [
  {
   "cell_type": "code",
   "execution_count": 1,
   "metadata": {
    "collapsed": true,
    "ExecuteTime": {
     "start_time": "2023-04-26T17:02:43.349927Z",
     "end_time": "2023-04-26T17:02:43.833367Z"
    }
   },
   "outputs": [],
   "source": [
    "import pandas as pd"
   ]
  },
  {
   "cell_type": "code",
   "execution_count": 1,
   "outputs": [],
   "source": [],
   "metadata": {
    "collapsed": false,
    "ExecuteTime": {
     "start_time": "2023-04-26T16:24:14.449406Z",
     "end_time": "2023-04-26T16:24:14.451110Z"
    }
   }
  },
  {
   "cell_type": "code",
   "execution_count": 2,
   "outputs": [],
   "source": [
    "data = pd.read_json('data/idiom-dirty.json')"
   ],
   "metadata": {
    "collapsed": false,
    "ExecuteTime": {
     "start_time": "2023-04-26T16:24:14.451590Z",
     "end_time": "2023-04-26T16:24:14.543755Z"
    }
   }
  },
  {
   "cell_type": "code",
   "execution_count": 10,
   "outputs": [
    {
     "data": {
      "text/plain": "              derivation                               example   \n0  语出《法华经·法师功德品》下至阿鼻地狱。”  但也有少数意志薄弱的……逐步上当，终至堕入～。★《上饶集中营·炼狱杂记》  \\\n\n                                         explanation      pinyin  word   \n0  阿鼻梵语的译音，意译为无间”，即痛苦无有间断之意。常用来比喻黑暗的社会和严酷的牢狱。又比喻无...  ā bí dì yù  阿鼻地狱  \\\n\n  abbreviation  \n0         abdy  ",
      "text/html": "<div>\n<style scoped>\n    .dataframe tbody tr th:only-of-type {\n        vertical-align: middle;\n    }\n\n    .dataframe tbody tr th {\n        vertical-align: top;\n    }\n\n    .dataframe thead th {\n        text-align: right;\n    }\n</style>\n<table border=\"1\" class=\"dataframe\">\n  <thead>\n    <tr style=\"text-align: right;\">\n      <th></th>\n      <th>derivation</th>\n      <th>example</th>\n      <th>explanation</th>\n      <th>pinyin</th>\n      <th>word</th>\n      <th>abbreviation</th>\n    </tr>\n  </thead>\n  <tbody>\n    <tr>\n      <th>0</th>\n      <td>语出《法华经·法师功德品》下至阿鼻地狱。”</td>\n      <td>但也有少数意志薄弱的……逐步上当，终至堕入～。★《上饶集中营·炼狱杂记》</td>\n      <td>阿鼻梵语的译音，意译为无间”，即痛苦无有间断之意。常用来比喻黑暗的社会和严酷的牢狱。又比喻无...</td>\n      <td>ā bí dì yù</td>\n      <td>阿鼻地狱</td>\n      <td>abdy</td>\n    </tr>\n  </tbody>\n</table>\n</div>"
     },
     "execution_count": 10,
     "metadata": {},
     "output_type": "execute_result"
    }
   ],
   "source": [
    "\n",
    "data[data.word.map(lambda x:True if '阿鼻地狱'in x else False)]"
   ],
   "metadata": {
    "collapsed": false,
    "ExecuteTime": {
     "start_time": "2023-04-26T16:28:10.173953Z",
     "end_time": "2023-04-26T16:28:10.191570Z"
    }
   }
  },
  {
   "cell_type": "code",
   "execution_count": 7,
   "outputs": [
    {
     "data": {
      "text/plain": "                                          derivation   \n0                              语出《法华经·法师功德品》下至阿鼻地狱。”  \\\n1                         三国·魏·曹操《整齐风俗令》阿党比周，先圣所疾也。”   \n2  《汉书·诸葛丰传》今以四海之大，曾无伏节死谊之臣，率尽苟合取容，阿党相为，念私门之利，忘国家...   \n3        鲁迅《我们要批评家》然而新的批评家不开口，类似批评家之流便趁势一笔抹杀‘阿狗阿猫’。”   \n4                                            见阿家阿翁”。   \n\n                                             example   \n0               但也有少数意志薄弱的……逐步上当，终至堕入～。★《上饶集中营·炼狱杂记》  \\\n1  《论语·卫灵公》众恶之，必察焉；众好之，必察焉”何晏集解引三国魏王肃曰或众～，或其人特立不群...   \n2                                                  无   \n3                                                  无   \n4                    既然如此，你我两个，便学个不痴不聋的～。★《儿女英雄传》二三回   \n\n                                         explanation            pinyin  word   \n0  阿鼻梵语的译音，意译为无间”，即痛苦无有间断之意。常用来比喻黑暗的社会和严酷的牢狱。又比喻无...        ā bí dì yù  阿鼻地狱  \\\n1                                   指相互勾结，相互偏袒，结党营私。    ē dǎng bǐ zhōu  阿党比周   \n2                           阿党偏袒、偏私一方。为了谋求私利相互偏袒、包庇。  ē dǎng xiāng wéi  阿党相为   \n3                     旧时人们常用的小名。引申为任何轻贱的，不值得重视的人或著作。       ā gǒu ā māo  阿狗阿猫   \n4                        阿名词的前缀。姑丈夫的母亲。翁丈夫的父亲。指公公婆婆。       ā gū ā wēng  阿姑阿翁   \n\n  abbreviation  \n0         abdy  \n1         edbz  \n2         edxw  \n3         agam  \n4         agaw  ",
      "text/html": "<div>\n<style scoped>\n    .dataframe tbody tr th:only-of-type {\n        vertical-align: middle;\n    }\n\n    .dataframe tbody tr th {\n        vertical-align: top;\n    }\n\n    .dataframe thead th {\n        text-align: right;\n    }\n</style>\n<table border=\"1\" class=\"dataframe\">\n  <thead>\n    <tr style=\"text-align: right;\">\n      <th></th>\n      <th>derivation</th>\n      <th>example</th>\n      <th>explanation</th>\n      <th>pinyin</th>\n      <th>word</th>\n      <th>abbreviation</th>\n    </tr>\n  </thead>\n  <tbody>\n    <tr>\n      <th>0</th>\n      <td>语出《法华经·法师功德品》下至阿鼻地狱。”</td>\n      <td>但也有少数意志薄弱的……逐步上当，终至堕入～。★《上饶集中营·炼狱杂记》</td>\n      <td>阿鼻梵语的译音，意译为无间”，即痛苦无有间断之意。常用来比喻黑暗的社会和严酷的牢狱。又比喻无...</td>\n      <td>ā bí dì yù</td>\n      <td>阿鼻地狱</td>\n      <td>abdy</td>\n    </tr>\n    <tr>\n      <th>1</th>\n      <td>三国·魏·曹操《整齐风俗令》阿党比周，先圣所疾也。”</td>\n      <td>《论语·卫灵公》众恶之，必察焉；众好之，必察焉”何晏集解引三国魏王肃曰或众～，或其人特立不群...</td>\n      <td>指相互勾结，相互偏袒，结党营私。</td>\n      <td>ē dǎng bǐ zhōu</td>\n      <td>阿党比周</td>\n      <td>edbz</td>\n    </tr>\n    <tr>\n      <th>2</th>\n      <td>《汉书·诸葛丰传》今以四海之大，曾无伏节死谊之臣，率尽苟合取容，阿党相为，念私门之利，忘国家...</td>\n      <td>无</td>\n      <td>阿党偏袒、偏私一方。为了谋求私利相互偏袒、包庇。</td>\n      <td>ē dǎng xiāng wéi</td>\n      <td>阿党相为</td>\n      <td>edxw</td>\n    </tr>\n    <tr>\n      <th>3</th>\n      <td>鲁迅《我们要批评家》然而新的批评家不开口，类似批评家之流便趁势一笔抹杀‘阿狗阿猫’。”</td>\n      <td>无</td>\n      <td>旧时人们常用的小名。引申为任何轻贱的，不值得重视的人或著作。</td>\n      <td>ā gǒu ā māo</td>\n      <td>阿狗阿猫</td>\n      <td>agam</td>\n    </tr>\n    <tr>\n      <th>4</th>\n      <td>见阿家阿翁”。</td>\n      <td>既然如此，你我两个，便学个不痴不聋的～。★《儿女英雄传》二三回</td>\n      <td>阿名词的前缀。姑丈夫的母亲。翁丈夫的父亲。指公公婆婆。</td>\n      <td>ā gū ā wēng</td>\n      <td>阿姑阿翁</td>\n      <td>agaw</td>\n    </tr>\n  </tbody>\n</table>\n</div>"
     },
     "execution_count": 7,
     "metadata": {},
     "output_type": "execute_result"
    }
   ],
   "source": [
    "data.head()"
   ],
   "metadata": {
    "collapsed": false,
    "ExecuteTime": {
     "start_time": "2023-04-26T16:24:59.122445Z",
     "end_time": "2023-04-26T16:24:59.129016Z"
    }
   }
  },
  {
   "cell_type": "code",
   "execution_count": 11,
   "outputs": [],
   "source": [
    "def get_words(word):\n",
    "    return data[data.word.map(lambda x:True if word in x else False)]"
   ],
   "metadata": {
    "collapsed": false,
    "ExecuteTime": {
     "start_time": "2023-04-26T16:29:42.190239Z",
     "end_time": "2023-04-26T16:29:42.195819Z"
    }
   }
  },
  {
   "cell_type": "code",
   "execution_count": 13,
   "outputs": [
    {
     "data": {
      "text/plain": "                                              derivation   \n279                                                    无  \\\n454    汉·刘向《说苑·正谏》昔日龙下清冷之渊，化为鱼，渔者豫且射中其目。” 汉·张衡《东京赋》白龙...   \n730     南朝·梁·沈约《宋书》志第十二乐四弹琴鼓瑟，聊以自娱。陵云登台，浮游太清。扳龙附凤，日望身轻。”   \n934    《太平御览》卷四十引《辛氏三秦记》河津一名龙门，巨灵迹犹在，去长安九百里。江海大鱼洎集门下数...   \n1167               明·兰陵笑笑生《金瓶梅词话》第三十一回闻公博学广记，笔底龙蛇，真才子也。”   \n...                                                  ...   \n29942                   蒋光慈《短裤党》二他每一次所做的传单，都是说的真龙活现也似的。”   \n29943  姚雪垠《李自成》第一卷第二十八章她想，既然人们都说明朝的气数完了，真龙天子已经出世，说不定这...   \n30263      《宋史·岳飞传》金将军韩常欲以五万众内附。飞大喜，语其下曰‘直抵黄龙府，与诸君痛饮尔！’”   \n30483  传说东汉费长房见一老翁挂着一把壶卖药，然后就跳进壶里去。第二天，费去拜访他，和他一起入壶，但...   \n31440  清蒲松龄《聊斋志异·书痴》异史氏曰‘天下之物，积则招妒，好则生魔女之妖，书之魔也。事近怪诞，...   \n\n                                                 example   \n279                                        这是一首～音乐，你想听吗？  \\\n454        相公～，隐姓潜名。倘或途中小辈不识高低，有毁相公者，何以处之？★明·冯梦龙《警世通言》卷四   \n730                                                    无   \n934           江海大鱼集门下，不得上；上即为龙。故云‘～，垂耳辕下。’★明·李贽《初潭集·师友六》   \n1167                                                   无   \n...                                                  ...   \n29942  计策的内容和保证是要求每个前去执行任务的小伙子大胆说谎话，而且谎话要说得有鼻子有眼，～，毫不...   \n29943                          ～一出世，天下也许就太平了。★萧军《八月的乡村》九   \n30263              ～君莫懈，福星高照古神州。★吴玉章《和印泉老兄七七”三年抗战纪念感赋原韵》   \n30483                 偶然～去，又过蓬莱日主祠。★清·王士秅《送高念东先生予告还山》诗之二   \n31440                                                  无   \n\n                                      explanation                pinyin  word   \n279                          如鼍愤怒，如龙忧愁。比喻乐曲的情调悲愤。      áo fèn lóng chóu  鳌愤龙愁  \\\n454         鱼服穿起鱼的外衣。白龙化为鱼在渊中游。比喻帝王或大官吏隐藏身分，改装出行。        bái lóng yú fú  白龙鱼服   \n730                                     指依附龙凤而升空。      bān lóng fù fèng  扳龙附凤   \n934    象鱼仰望龙门而不得上一样。科举时代比喻应进士试不第，后也比喻生活遭遇挫折，处境窘迫。       pù sāi lóng mén  暴腮龙门   \n1167                           犹言笔走龙蛇。形容书法生动而有气势。        bǐ dǐ lóng shé  笔底龙蛇   \n...                                           ...                   ...   ...   \n29942                                       形容逼真。    zhēn lóng huó xiàn  真龙活现   \n29943                    旧时认为皇帝是天上的真龙下凡，因以为皇帝的代称。     zhēn lóng tiān zǐ  真龙天子   \n30263    黄龙即黄龙府，辖地在今吉林一带，为金人的腹了。一直打到黄龙府。指捣毁敌人的巢穴。    zhí dǎo huáng lóng  直捣黄龙   \n30483                                 后以之为典，借指还乡。  zhì zhàng chéng lóng  掷杖成龙   \n31440                           指秦始皇焚书坑儒。祖龙，指秦始皇。       zǔ lóng zhī nüè  祖龙之虐   \n\n      abbreviation  \n279           aflc  \n454           blyf  \n730           blff  \n934           pslm  \n1167          bdls  \n...            ...  \n29942         zlhx  \n29943         zltz  \n30263         zdhl  \n30483         zzcl  \n31440         zlzn  \n\n[303 rows x 6 columns]",
      "text/html": "<div>\n<style scoped>\n    .dataframe tbody tr th:only-of-type {\n        vertical-align: middle;\n    }\n\n    .dataframe tbody tr th {\n        vertical-align: top;\n    }\n\n    .dataframe thead th {\n        text-align: right;\n    }\n</style>\n<table border=\"1\" class=\"dataframe\">\n  <thead>\n    <tr style=\"text-align: right;\">\n      <th></th>\n      <th>derivation</th>\n      <th>example</th>\n      <th>explanation</th>\n      <th>pinyin</th>\n      <th>word</th>\n      <th>abbreviation</th>\n    </tr>\n  </thead>\n  <tbody>\n    <tr>\n      <th>279</th>\n      <td>无</td>\n      <td>这是一首～音乐，你想听吗？</td>\n      <td>如鼍愤怒，如龙忧愁。比喻乐曲的情调悲愤。</td>\n      <td>áo fèn lóng chóu</td>\n      <td>鳌愤龙愁</td>\n      <td>aflc</td>\n    </tr>\n    <tr>\n      <th>454</th>\n      <td>汉·刘向《说苑·正谏》昔日龙下清冷之渊，化为鱼，渔者豫且射中其目。” 汉·张衡《东京赋》白龙...</td>\n      <td>相公～，隐姓潜名。倘或途中小辈不识高低，有毁相公者，何以处之？★明·冯梦龙《警世通言》卷四</td>\n      <td>鱼服穿起鱼的外衣。白龙化为鱼在渊中游。比喻帝王或大官吏隐藏身分，改装出行。</td>\n      <td>bái lóng yú fú</td>\n      <td>白龙鱼服</td>\n      <td>blyf</td>\n    </tr>\n    <tr>\n      <th>730</th>\n      <td>南朝·梁·沈约《宋书》志第十二乐四弹琴鼓瑟，聊以自娱。陵云登台，浮游太清。扳龙附凤，日望身轻。”</td>\n      <td>无</td>\n      <td>指依附龙凤而升空。</td>\n      <td>bān lóng fù fèng</td>\n      <td>扳龙附凤</td>\n      <td>blff</td>\n    </tr>\n    <tr>\n      <th>934</th>\n      <td>《太平御览》卷四十引《辛氏三秦记》河津一名龙门，巨灵迹犹在，去长安九百里。江海大鱼洎集门下数...</td>\n      <td>江海大鱼集门下，不得上；上即为龙。故云‘～，垂耳辕下。’★明·李贽《初潭集·师友六》</td>\n      <td>象鱼仰望龙门而不得上一样。科举时代比喻应进士试不第，后也比喻生活遭遇挫折，处境窘迫。</td>\n      <td>pù sāi lóng mén</td>\n      <td>暴腮龙门</td>\n      <td>pslm</td>\n    </tr>\n    <tr>\n      <th>1167</th>\n      <td>明·兰陵笑笑生《金瓶梅词话》第三十一回闻公博学广记，笔底龙蛇，真才子也。”</td>\n      <td>无</td>\n      <td>犹言笔走龙蛇。形容书法生动而有气势。</td>\n      <td>bǐ dǐ lóng shé</td>\n      <td>笔底龙蛇</td>\n      <td>bdls</td>\n    </tr>\n    <tr>\n      <th>...</th>\n      <td>...</td>\n      <td>...</td>\n      <td>...</td>\n      <td>...</td>\n      <td>...</td>\n      <td>...</td>\n    </tr>\n    <tr>\n      <th>29942</th>\n      <td>蒋光慈《短裤党》二他每一次所做的传单，都是说的真龙活现也似的。”</td>\n      <td>计策的内容和保证是要求每个前去执行任务的小伙子大胆说谎话，而且谎话要说得有鼻子有眼，～，毫不...</td>\n      <td>形容逼真。</td>\n      <td>zhēn lóng huó xiàn</td>\n      <td>真龙活现</td>\n      <td>zlhx</td>\n    </tr>\n    <tr>\n      <th>29943</th>\n      <td>姚雪垠《李自成》第一卷第二十八章她想，既然人们都说明朝的气数完了，真龙天子已经出世，说不定这...</td>\n      <td>～一出世，天下也许就太平了。★萧军《八月的乡村》九</td>\n      <td>旧时认为皇帝是天上的真龙下凡，因以为皇帝的代称。</td>\n      <td>zhēn lóng tiān zǐ</td>\n      <td>真龙天子</td>\n      <td>zltz</td>\n    </tr>\n    <tr>\n      <th>30263</th>\n      <td>《宋史·岳飞传》金将军韩常欲以五万众内附。飞大喜，语其下曰‘直抵黄龙府，与诸君痛饮尔！’”</td>\n      <td>～君莫懈，福星高照古神州。★吴玉章《和印泉老兄七七”三年抗战纪念感赋原韵》</td>\n      <td>黄龙即黄龙府，辖地在今吉林一带，为金人的腹了。一直打到黄龙府。指捣毁敌人的巢穴。</td>\n      <td>zhí dǎo huáng lóng</td>\n      <td>直捣黄龙</td>\n      <td>zdhl</td>\n    </tr>\n    <tr>\n      <th>30483</th>\n      <td>传说东汉费长房见一老翁挂着一把壶卖药，然后就跳进壶里去。第二天，费去拜访他，和他一起入壶，但...</td>\n      <td>偶然～去，又过蓬莱日主祠。★清·王士秅《送高念东先生予告还山》诗之二</td>\n      <td>后以之为典，借指还乡。</td>\n      <td>zhì zhàng chéng lóng</td>\n      <td>掷杖成龙</td>\n      <td>zzcl</td>\n    </tr>\n    <tr>\n      <th>31440</th>\n      <td>清蒲松龄《聊斋志异·书痴》异史氏曰‘天下之物，积则招妒，好则生魔女之妖，书之魔也。事近怪诞，...</td>\n      <td>无</td>\n      <td>指秦始皇焚书坑儒。祖龙，指秦始皇。</td>\n      <td>zǔ lóng zhī nüè</td>\n      <td>祖龙之虐</td>\n      <td>zlzn</td>\n    </tr>\n  </tbody>\n</table>\n<p>303 rows × 6 columns</p>\n</div>"
     },
     "execution_count": 13,
     "metadata": {},
     "output_type": "execute_result"
    }
   ],
   "source": [
    "get_words('龙')"
   ],
   "metadata": {
    "collapsed": false,
    "ExecuteTime": {
     "start_time": "2023-04-26T16:29:59.329594Z",
     "end_time": "2023-04-26T16:29:59.340883Z"
    }
   }
  },
  {
   "cell_type": "code",
   "execution_count": null,
   "outputs": [],
   "source": [],
   "metadata": {
    "collapsed": false
   }
  }
 ],
 "metadata": {
  "kernelspec": {
   "display_name": "Python 3",
   "language": "python",
   "name": "python3"
  },
  "language_info": {
   "codemirror_mode": {
    "name": "ipython",
    "version": 2
   },
   "file_extension": ".py",
   "mimetype": "text/x-python",
   "name": "python",
   "nbconvert_exporter": "python",
   "pygments_lexer": "ipython2",
   "version": "2.7.6"
  }
 },
 "nbformat": 4,
 "nbformat_minor": 0
}
